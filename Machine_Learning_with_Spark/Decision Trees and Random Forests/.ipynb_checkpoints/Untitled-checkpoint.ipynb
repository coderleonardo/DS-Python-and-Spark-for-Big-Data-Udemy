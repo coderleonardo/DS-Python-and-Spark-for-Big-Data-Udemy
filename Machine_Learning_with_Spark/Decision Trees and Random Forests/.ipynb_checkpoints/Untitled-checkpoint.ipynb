{
 "cells": [
  {
   "cell_type": "code",
   "execution_count": 1,
   "id": "623a0d90",
   "metadata": {},
   "outputs": [
    {
     "name": "stderr",
     "output_type": "stream",
     "text": [
      "22/05/25 13:34:45 WARN Utils: Your hostname, ls-Aspire-A515-51G resolves to a loopback address: 127.0.1.1; using 192.168.15.8 instead (on interface wlp3s0)\n",
      "22/05/25 13:34:45 WARN Utils: Set SPARK_LOCAL_IP if you need to bind to another address\n",
      "Using Spark's default log4j profile: org/apache/spark/log4j-defaults.properties\n",
      "Setting default log level to \"WARN\".\n",
      "To adjust logging level use sc.setLogLevel(newLevel). For SparkR, use setLogLevel(newLevel).\n",
      "22/05/25 13:34:48 WARN NativeCodeLoader: Unable to load native-hadoop library for your platform... using builtin-java classes where applicable\n",
      "22/05/25 13:34:52 WARN Utils: Service 'SparkUI' could not bind on port 4040. Attempting port 4041.\n",
      "22/05/25 13:34:52 WARN Utils: Service 'SparkUI' could not bind on port 4041. Attempting port 4042.\n",
      "22/05/25 13:34:52 WARN Utils: Service 'SparkUI' could not bind on port 4042. Attempting port 4043.\n",
      "22/05/25 13:34:52 WARN Utils: Service 'SparkUI' could not bind on port 4043. Attempting port 4044.\n"
     ]
    }
   ],
   "source": [
    "import findspark\n",
    "findspark.init('/opt/spark')\n",
    "\n",
    "from pyspark.sql import SparkSession\n",
    "\n",
    "spark = SparkSession.builder.appName('trees').getOrCreate()"
   ]
  },
  {
   "cell_type": "code",
   "execution_count": 2,
   "id": "0546882c",
   "metadata": {},
   "outputs": [],
   "source": [
    "from pyspark.ml import Pipeline\n",
    "from pyspark.ml.classification import (RandomForestClassifier, GBTClassifier, DecisionTreeClassifier)"
   ]
  },
  {
   "cell_type": "code",
   "execution_count": 3,
   "id": "ceea37cd",
   "metadata": {},
   "outputs": [
    {
     "name": "stderr",
     "output_type": "stream",
     "text": [
      "22/05/25 13:36:41 WARN LibSVMFileFormat: 'numFeatures' option not specified, determining the number of features by going though the input. If you know the number in advance, please specify it via 'numFeatures' option to avoid the extra scan.\n",
      "                                                                                \r"
     ]
    }
   ],
   "source": [
    "data = spark.read.format('libsvm').load('sample_libsvm_data.txt')"
   ]
  },
  {
   "cell_type": "code",
   "execution_count": 4,
   "id": "e1fd0052",
   "metadata": {},
   "outputs": [
    {
     "name": "stdout",
     "output_type": "stream",
     "text": [
      "+-----+--------------------+\n",
      "|label|            features|\n",
      "+-----+--------------------+\n",
      "|  0.0|(692,[127,128,129...|\n",
      "|  1.0|(692,[158,159,160...|\n",
      "|  1.0|(692,[124,125,126...|\n",
      "|  1.0|(692,[152,153,154...|\n",
      "|  1.0|(692,[151,152,153...|\n",
      "|  0.0|(692,[129,130,131...|\n",
      "|  1.0|(692,[158,159,160...|\n",
      "|  1.0|(692,[99,100,101,...|\n",
      "|  0.0|(692,[154,155,156...|\n",
      "|  0.0|(692,[127,128,129...|\n",
      "|  1.0|(692,[154,155,156...|\n",
      "|  0.0|(692,[153,154,155...|\n",
      "|  0.0|(692,[151,152,153...|\n",
      "|  1.0|(692,[129,130,131...|\n",
      "|  0.0|(692,[154,155,156...|\n",
      "|  1.0|(692,[150,151,152...|\n",
      "|  0.0|(692,[124,125,126...|\n",
      "|  0.0|(692,[152,153,154...|\n",
      "|  1.0|(692,[97,98,99,12...|\n",
      "|  1.0|(692,[124,125,126...|\n",
      "+-----+--------------------+\n",
      "only showing top 20 rows\n",
      "\n"
     ]
    }
   ],
   "source": [
    "data.show()"
   ]
  },
  {
   "cell_type": "code",
   "execution_count": 5,
   "id": "d914d258",
   "metadata": {},
   "outputs": [],
   "source": [
    "train_data, test_data = data.randomSplit([0.7, 0.3])"
   ]
  },
  {
   "cell_type": "code",
   "execution_count": 8,
   "id": "a996a1dc",
   "metadata": {},
   "outputs": [],
   "source": [
    "dtc = DecisionTreeClassifier()\n",
    "rfc = RandomForestClassifier(numTrees=100)\n",
    "gbt = GBTClassifier()"
   ]
  },
  {
   "cell_type": "code",
   "execution_count": 9,
   "id": "58e44f27",
   "metadata": {},
   "outputs": [],
   "source": [
    "dtc_model = dtc.fit(train_data)\n",
    "rfc_model = rfc.fit(train_data)\n",
    "gbt_model = gbt.fit(train_data)"
   ]
  },
  {
   "cell_type": "code",
   "execution_count": 11,
   "id": "56f09861",
   "metadata": {},
   "outputs": [],
   "source": [
    "dtc_preds = dtc_model.transform(test_data)\n",
    "rfc_preds = rfc_model.transform(test_data)\n",
    "gbt_preds = gbt_model.transform(test_data)"
   ]
  },
  {
   "cell_type": "code",
   "execution_count": 12,
   "id": "c628bfa3",
   "metadata": {},
   "outputs": [
    {
     "name": "stdout",
     "output_type": "stream",
     "text": [
      "+-----+--------------------+-------------+-----------+----------+\n",
      "|label|            features|rawPrediction|probability|prediction|\n",
      "+-----+--------------------+-------------+-----------+----------+\n",
      "|  0.0|(692,[95,96,97,12...|   [33.0,0.0]|  [1.0,0.0]|       0.0|\n",
      "|  0.0|(692,[122,123,124...|   [33.0,0.0]|  [1.0,0.0]|       0.0|\n",
      "|  0.0|(692,[123,124,125...|   [33.0,0.0]|  [1.0,0.0]|       0.0|\n",
      "|  0.0|(692,[124,125,126...|   [33.0,0.0]|  [1.0,0.0]|       0.0|\n",
      "|  0.0|(692,[126,127,128...|   [33.0,0.0]|  [1.0,0.0]|       0.0|\n",
      "|  0.0|(692,[126,127,128...|   [33.0,0.0]|  [1.0,0.0]|       0.0|\n",
      "|  0.0|(692,[127,128,129...|   [33.0,0.0]|  [1.0,0.0]|       0.0|\n",
      "|  0.0|(692,[128,129,130...|   [33.0,0.0]|  [1.0,0.0]|       0.0|\n",
      "|  0.0|(692,[150,151,152...|   [33.0,0.0]|  [1.0,0.0]|       0.0|\n",
      "|  0.0|(692,[154,155,156...|   [33.0,0.0]|  [1.0,0.0]|       0.0|\n",
      "|  1.0|(692,[99,100,101,...|   [33.0,0.0]|  [1.0,0.0]|       0.0|\n",
      "|  1.0|(692,[123,124,125...|   [0.0,41.0]|  [0.0,1.0]|       1.0|\n",
      "|  1.0|(692,[123,124,125...|   [0.0,41.0]|  [0.0,1.0]|       1.0|\n",
      "|  1.0|(692,[127,128,129...|   [0.0,41.0]|  [0.0,1.0]|       1.0|\n",
      "|  1.0|(692,[128,129,130...|   [0.0,41.0]|  [0.0,1.0]|       1.0|\n",
      "|  1.0|(692,[128,129,130...|   [0.0,41.0]|  [0.0,1.0]|       1.0|\n",
      "|  1.0|(692,[128,129,130...|   [0.0,41.0]|  [0.0,1.0]|       1.0|\n",
      "|  1.0|(692,[128,129,155...|   [0.0,41.0]|  [0.0,1.0]|       1.0|\n",
      "|  1.0|(692,[129,130,131...|   [0.0,41.0]|  [0.0,1.0]|       1.0|\n",
      "|  1.0|(692,[129,130,131...|   [0.0,41.0]|  [0.0,1.0]|       1.0|\n",
      "+-----+--------------------+-------------+-----------+----------+\n",
      "only showing top 20 rows\n",
      "\n"
     ]
    }
   ],
   "source": [
    "dtc_preds.show()"
   ]
  },
  {
   "cell_type": "code",
   "execution_count": 13,
   "id": "00db2d3e",
   "metadata": {},
   "outputs": [],
   "source": [
    "from pyspark.ml.evaluation import MulticlassClassificationEvaluator"
   ]
  },
  {
   "cell_type": "code",
   "execution_count": 14,
   "id": "51d91b65",
   "metadata": {},
   "outputs": [],
   "source": [
    "acc_eval = MulticlassClassificationEvaluator(metricName='accuracy')"
   ]
  },
  {
   "cell_type": "code",
   "execution_count": 15,
   "id": "e3d21f59",
   "metadata": {},
   "outputs": [
    {
     "name": "stdout",
     "output_type": "stream",
     "text": [
      "DTC ACCURACY\n"
     ]
    },
    {
     "data": {
      "text/plain": [
       "0.9615384615384616"
      ]
     },
     "execution_count": 15,
     "metadata": {},
     "output_type": "execute_result"
    }
   ],
   "source": [
    "print('DTC ACCURACY') \n",
    "acc_eval.evaluate(dtc_preds)"
   ]
  },
  {
   "cell_type": "code",
   "execution_count": 16,
   "id": "82513d58",
   "metadata": {},
   "outputs": [
    {
     "name": "stdout",
     "output_type": "stream",
     "text": [
      "RFC ACCURACY\n"
     ]
    },
    {
     "data": {
      "text/plain": [
       "0.9615384615384616"
      ]
     },
     "execution_count": 16,
     "metadata": {},
     "output_type": "execute_result"
    }
   ],
   "source": [
    "print('RFC ACCURACY') \n",
    "acc_eval.evaluate(rfc_preds)"
   ]
  },
  {
   "cell_type": "code",
   "execution_count": 17,
   "id": "9aaaff42",
   "metadata": {},
   "outputs": [
    {
     "data": {
      "text/plain": [
       "SparseVector(692, {126: 0.0005, 131: 0.0009, 154: 0.0003, 158: 0.0007, 176: 0.0014, 178: 0.0002, 184: 0.0005, 186: 0.0011, 206: 0.0015, 209: 0.0011, 211: 0.0004, 215: 0.002, 217: 0.0005, 233: 0.0004, 234: 0.0081, 235: 0.0098, 241: 0.0001, 243: 0.0009, 244: 0.0063, 263: 0.0139, 268: 0.0019, 269: 0.0005, 272: 0.0021, 273: 0.0112, 274: 0.0043, 295: 0.0001, 297: 0.0002, 300: 0.008, 314: 0.0015, 317: 0.0006, 324: 0.0011, 325: 0.001, 328: 0.0088, 345: 0.0084, 348: 0.0005, 350: 0.024, 351: 0.0006, 353: 0.001, 355: 0.003, 357: 0.0179, 358: 0.0145, 359: 0.0037, 369: 0.0004, 372: 0.0015, 374: 0.008, 375: 0.0006, 377: 0.0106, 378: 0.0642, 379: 0.0233, 384: 0.0011, 385: 0.0094, 397: 0.0006, 400: 0.0074, 401: 0.0014, 402: 0.0037, 403: 0.0011, 405: 0.0475, 406: 0.0379, 407: 0.0011, 408: 0.0013, 410: 0.0002, 411: 0.0041, 414: 0.0003, 415: 0.0044, 416: 0.0007, 425: 0.0026, 427: 0.0118, 428: 0.0074, 430: 0.0004, 431: 0.0006, 433: 0.0734, 434: 0.0735, 435: 0.0085, 436: 0.0014, 440: 0.001, 441: 0.0007, 453: 0.0015, 454: 0.0005, 455: 0.0183, 456: 0.0159, 457: 0.0078, 461: 0.0325, 462: 0.0479, 463: 0.0191, 465: 0.0007, 466: 0.0003, 467: 0.0056, 468: 0.0089, 483: 0.0019, 484: 0.0144, 485: 0.0031, 486: 0.0005, 489: 0.0128, 490: 0.03, 499: 0.0006, 509: 0.0019, 511: 0.0263, 512: 0.033, 513: 0.0033, 517: 0.0118, 518: 0.0204, 519: 0.0003, 521: 0.0003, 523: 0.0006, 525: 0.0016, 536: 0.0006, 537: 0.0005, 538: 0.0011, 539: 0.0318, 540: 0.0022, 541: 0.0079, 545: 0.0006, 546: 0.0014, 549: 0.0039, 550: 0.0069, 567: 0.0133, 568: 0.0179, 569: 0.0019, 570: 0.0002, 574: 0.0016, 576: 0.0007, 594: 0.0006, 602: 0.0016, 604: 0.0006, 607: 0.0013, 621: 0.001, 623: 0.0005, 629: 0.001, 630: 0.0002, 651: 0.0001, 653: 0.0005, 658: 0.0005, 680: 0.0003})"
      ]
     },
     "execution_count": 17,
     "metadata": {},
     "output_type": "execute_result"
    }
   ],
   "source": [
    "rfc_model.featureImportances"
   ]
  },
  {
   "cell_type": "code",
   "execution_count": null,
   "id": "b1da3909",
   "metadata": {},
   "outputs": [],
   "source": []
  }
 ],
 "metadata": {
  "kernelspec": {
   "display_name": "Python 3 (ipykernel)",
   "language": "python",
   "name": "python3"
  },
  "language_info": {
   "codemirror_mode": {
    "name": "ipython",
    "version": 3
   },
   "file_extension": ".py",
   "mimetype": "text/x-python",
   "name": "python",
   "nbconvert_exporter": "python",
   "pygments_lexer": "ipython3",
   "version": "3.9.7"
  }
 },
 "nbformat": 4,
 "nbformat_minor": 5
}
